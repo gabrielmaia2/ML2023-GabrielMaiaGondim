{
 "cells": [
  {
   "attachments": {},
   "cell_type": "markdown",
   "metadata": {},
   "source": [
    "# Breast Cancer - Ensemble"
   ]
  },
  {
   "attachments": {},
   "cell_type": "markdown",
   "metadata": {},
   "source": [
    "Carregando dados:"
   ]
  },
  {
   "cell_type": "code",
   "execution_count": 87,
   "metadata": {},
   "outputs": [
    {
     "data": {
      "text/html": [
       "<div>\n",
       "<style scoped>\n",
       "    .dataframe tbody tr th:only-of-type {\n",
       "        vertical-align: middle;\n",
       "    }\n",
       "\n",
       "    .dataframe tbody tr th {\n",
       "        vertical-align: top;\n",
       "    }\n",
       "\n",
       "    .dataframe thead th {\n",
       "        text-align: right;\n",
       "    }\n",
       "</style>\n",
       "<table border=\"1\" class=\"dataframe\">\n",
       "  <thead>\n",
       "    <tr style=\"text-align: right;\">\n",
       "      <th></th>\n",
       "      <th>Age</th>\n",
       "      <th>BMI</th>\n",
       "      <th>Glucose</th>\n",
       "      <th>Insulin</th>\n",
       "      <th>HOMA</th>\n",
       "      <th>Leptin</th>\n",
       "      <th>Adiponectin</th>\n",
       "      <th>Resistin</th>\n",
       "      <th>MCP.1</th>\n",
       "    </tr>\n",
       "  </thead>\n",
       "  <tbody>\n",
       "    <tr>\n",
       "      <th>0</th>\n",
       "      <td>48</td>\n",
       "      <td>23.500000</td>\n",
       "      <td>70</td>\n",
       "      <td>2.707</td>\n",
       "      <td>0.467409</td>\n",
       "      <td>8.8071</td>\n",
       "      <td>9.702400</td>\n",
       "      <td>7.99585</td>\n",
       "      <td>417.114</td>\n",
       "    </tr>\n",
       "    <tr>\n",
       "      <th>1</th>\n",
       "      <td>83</td>\n",
       "      <td>20.690495</td>\n",
       "      <td>92</td>\n",
       "      <td>3.115</td>\n",
       "      <td>0.706897</td>\n",
       "      <td>8.8438</td>\n",
       "      <td>5.429285</td>\n",
       "      <td>4.06405</td>\n",
       "      <td>468.786</td>\n",
       "    </tr>\n",
       "    <tr>\n",
       "      <th>2</th>\n",
       "      <td>82</td>\n",
       "      <td>23.124670</td>\n",
       "      <td>91</td>\n",
       "      <td>4.498</td>\n",
       "      <td>1.009651</td>\n",
       "      <td>17.9393</td>\n",
       "      <td>22.432040</td>\n",
       "      <td>9.27715</td>\n",
       "      <td>554.697</td>\n",
       "    </tr>\n",
       "    <tr>\n",
       "      <th>3</th>\n",
       "      <td>68</td>\n",
       "      <td>21.367521</td>\n",
       "      <td>77</td>\n",
       "      <td>3.226</td>\n",
       "      <td>0.612725</td>\n",
       "      <td>9.8827</td>\n",
       "      <td>7.169560</td>\n",
       "      <td>12.76600</td>\n",
       "      <td>928.220</td>\n",
       "    </tr>\n",
       "  </tbody>\n",
       "</table>\n",
       "</div>"
      ],
      "text/plain": [
       "   Age        BMI  Glucose  Insulin      HOMA   Leptin  Adiponectin  Resistin  \\\n",
       "0   48  23.500000       70    2.707  0.467409   8.8071     9.702400   7.99585   \n",
       "1   83  20.690495       92    3.115  0.706897   8.8438     5.429285   4.06405   \n",
       "2   82  23.124670       91    4.498  1.009651  17.9393    22.432040   9.27715   \n",
       "3   68  21.367521       77    3.226  0.612725   9.8827     7.169560  12.76600   \n",
       "\n",
       "     MCP.1  \n",
       "0  417.114  \n",
       "1  468.786  \n",
       "2  554.697  \n",
       "3  928.220  "
      ]
     },
     "metadata": {},
     "output_type": "display_data"
    },
    {
     "data": {
      "text/plain": [
       "0    1\n",
       "1    1\n",
       "2    1\n",
       "3    1\n",
       "Name: Classification, dtype: int64"
      ]
     },
     "metadata": {},
     "output_type": "display_data"
    },
    {
     "data": {
      "text/plain": [
       "array([1, 2])"
      ]
     },
     "metadata": {},
     "output_type": "display_data"
    }
   ],
   "source": [
    "import numpy as np\n",
    "import pandas as pd\n",
    "\n",
    "scaler = StandardScaler()\n",
    "\n",
    "data = pd.read_csv('dataR2.csv')\n",
    "data, labels = data.iloc[:, :-1], data.iloc[:, -1]\n",
    "\n",
    "display(data.head(4))\n",
    "display(labels.head(4))\n",
    "display(labels.unique())"
   ]
  },
  {
   "attachments": {},
   "cell_type": "markdown",
   "metadata": {},
   "source": [
    "Escalando dados e transformando labels para 0 e 1:"
   ]
  },
  {
   "cell_type": "code",
   "execution_count": 88,
   "metadata": {},
   "outputs": [
    {
     "data": {
      "text/plain": [
       "array([0, 1])"
      ]
     },
     "metadata": {},
     "output_type": "display_data"
    }
   ],
   "source": [
    "from sklearn.preprocessing import StandardScaler, LabelEncoder\n",
    "\n",
    "data[:] = scaler.fit_transform(data)\n",
    "\n",
    "lenc = LabelEncoder()\n",
    "\n",
    "labels[:] = lenc.fit_transform(labels)\n",
    "display(lenc.transform(lenc.classes_))\n"
   ]
  },
  {
   "attachments": {},
   "cell_type": "markdown",
   "metadata": {},
   "source": [
    "Separando os dados para treino e teste:"
   ]
  },
  {
   "cell_type": "code",
   "execution_count": 89,
   "metadata": {},
   "outputs": [],
   "source": [
    "from sklearn import datasets\n",
    "from sklearn.model_selection import train_test_split\n",
    "\n",
    "X_train, X_test, y_train, y_test =\\\n",
    "    train_test_split(data, labels,\n",
    "                     test_size=0.2,\n",
    "                     random_state=42,\n",
    "                     stratify=labels)\n"
   ]
  },
  {
   "attachments": {},
   "cell_type": "markdown",
   "metadata": {},
   "source": [
    "Criando as pipelines:"
   ]
  },
  {
   "cell_type": "code",
   "execution_count": 90,
   "metadata": {},
   "outputs": [],
   "source": [
    "from sklearn.pipeline import Pipeline\n",
    "from sklearn.tree import DecisionTreeClassifier\n",
    "from sklearn.ensemble import RandomForestClassifier\n",
    "from sklearn.ensemble import AdaBoostClassifier\n",
    "\n",
    "pipe1 = Pipeline([\n",
    "    ['sc', StandardScaler()],\n",
    "    ['clf', DecisionTreeClassifier(\n",
    "        random_state=43,\n",
    "    )]\n",
    "])\n",
    "pipe2 = Pipeline([\n",
    "    ['sc', StandardScaler()],\n",
    "    ['clf', RandomForestClassifier(\n",
    "        criterion='gini',\n",
    "        random_state=44,\n",
    "    )]\n",
    "])\n",
    "pipe3 = Pipeline([\n",
    "    ['sc', StandardScaler()],\n",
    "    ['clf', AdaBoostClassifier(\n",
    "        algorithm='SAMME.R',\n",
    "        random_state=45,\n",
    "    )]\n",
    "])\n"
   ]
  },
  {
   "attachments": {},
   "cell_type": "markdown",
   "metadata": {},
   "source": [
    "Buscando a pipeline com melhores métricas:"
   ]
  },
  {
   "cell_type": "code",
   "execution_count": 91,
   "metadata": {},
   "outputs": [
    {
     "data": {
      "text/plain": [
       "0.6514619883040936"
      ]
     },
     "metadata": {},
     "output_type": "display_data"
    },
    {
     "data": {
      "text/plain": [
       "{'clf__max_depth': 30}"
      ]
     },
     "metadata": {},
     "output_type": "display_data"
    },
    {
     "data": {
      "text/plain": [
       "0.7584795321637428"
      ]
     },
     "metadata": {},
     "output_type": "display_data"
    },
    {
     "data": {
      "text/plain": [
       "{'clf__max_depth': 3, 'clf__n_estimators': 50}"
      ]
     },
     "metadata": {},
     "output_type": "display_data"
    },
    {
     "data": {
      "text/plain": [
       "0.7263157894736841"
      ]
     },
     "metadata": {},
     "output_type": "display_data"
    },
    {
     "data": {
      "text/plain": [
       "{'clf__estimator': DecisionTreeClassifier(max_depth=3, random_state=47),\n",
       " 'clf__learning_rate': 0.01,\n",
       " 'clf__n_estimators': 100}"
      ]
     },
     "metadata": {},
     "output_type": "display_data"
    }
   ],
   "source": [
    "from sklearn.model_selection import GridSearchCV, StratifiedKFold\n",
    "\n",
    "kfold = StratifiedKFold(n_splits=5, shuffle=True, random_state=46)\n",
    "\n",
    "gs1 = GridSearchCV(pipe1, cv=kfold, n_jobs=-1, param_grid=[{\n",
    "    'clf__max_depth': [30]\n",
    "}])\n",
    "gs2 = GridSearchCV(pipe2, cv=kfold, n_jobs=-1, param_grid=[{\n",
    "    'clf__n_estimators': [50, 100, 200],\n",
    "    'clf__max_depth': [3, 5, 7]\n",
    "}])\n",
    "gs3 = GridSearchCV(pipe3, cv=kfold, n_jobs=-1, param_grid=[{\n",
    "    'clf__n_estimators': [50, 100, 200],\n",
    "    'clf__estimator': [DecisionTreeClassifier(max_depth=i, random_state=47) for i in [3, 5, 7]],\n",
    "    'clf__learning_rate': [0.01, 0.05, 0.1, 0.5]\n",
    "}])\n",
    "\n",
    "gs1.fit(X_train, y_train)\n",
    "gs2.fit(X_train, y_train)\n",
    "gs3.fit(X_train, y_train)\n",
    "\n",
    "display(gs1.best_score_)\n",
    "display(gs1.best_params_)\n",
    "display(gs2.best_score_)\n",
    "display(gs2.best_params_)\n",
    "display(gs3.best_score_)\n",
    "display(gs3.best_params_)\n"
   ]
  },
  {
   "attachments": {},
   "cell_type": "markdown",
   "metadata": {},
   "source": [
    "Treinando novamente o modelo com melhores hiperparâmetros e\n",
    "calculando métricas usando dataset de teste:"
   ]
  },
  {
   "cell_type": "code",
   "execution_count": 92,
   "metadata": {},
   "outputs": [
    {
     "name": "stdout",
     "output_type": "stream",
     "text": [
      "accuracy (each class):  [0.72727273 0.61538462]\n",
      "recall (each class):  [0.72727273 0.61538462]\n",
      "f1-score (each class):  [0.66666667 0.66666667]\n",
      "precision (each class):  [0.61538462 0.72727273]\n",
      "accuracy (average):  0.6713286713286714\n",
      "recall (average):  0.6713286713286714\n",
      "f1-score (average):  0.6666666666666667\n",
      "precision (average):  0.6713286713286714\n"
     ]
    }
   ],
   "source": [
    "from sklearn.metrics import accuracy_score, recall_score, f1_score, precision_score, precision_recall_fscore_support\n",
    "\n",
    "pipe = Pipeline([\n",
    "    ['sc', StandardScaler()],\n",
    "    ['clf', RandomForestClassifier(\n",
    "        max_depth=3,\n",
    "        n_estimators=50,\n",
    "        criterion='gini',\n",
    "        random_state=48,\n",
    "    )]\n",
    "])\n",
    "\n",
    "pipe.fit(X_train, y_train)\n",
    "y_pred = pipe.predict(X_test)\n",
    "\n",
    "lenc_labels = lenc.transform(lenc.classes_)\n",
    "\n",
    "acc = np.array([accuracy_score(y_test[y_test == i], y_pred[y_test == i])\n",
    "               for i in lenc_labels])\n",
    "rec = recall_score(y_test, y_pred, average=None, labels=lenc_labels)\n",
    "f1 = f1_score(y_test, y_pred, average=None, labels=lenc_labels)\n",
    "prec = precision_score(y_test, y_pred, average=None, labels=lenc_labels)\n",
    "\n",
    "print('accuracy (each class): ', acc)\n",
    "print('recall (each class): ', rec)\n",
    "print('f1-score (each class): ', f1)\n",
    "print('precision (each class): ', prec)\n",
    "\n",
    "print('accuracy (average): ', np.average(acc))\n",
    "print('recall (average): ', np.average(rec))\n",
    "print('f1-score (average): ', np.average(f1))\n",
    "print('precision (average): ', np.average(prec))\n"
   ]
  }
 ],
 "metadata": {
  "kernelspec": {
   "display_name": "base",
   "language": "python",
   "name": "python3"
  },
  "language_info": {
   "codemirror_mode": {
    "name": "ipython",
    "version": 3
   },
   "file_extension": ".py",
   "mimetype": "text/x-python",
   "name": "python",
   "nbconvert_exporter": "python",
   "pygments_lexer": "ipython3",
   "version": "3.10.10"
  },
  "orig_nbformat": 4
 },
 "nbformat": 4,
 "nbformat_minor": 2
}
