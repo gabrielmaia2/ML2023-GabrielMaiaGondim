{
 "cells": [
  {
   "attachments": {},
   "cell_type": "markdown",
   "metadata": {},
   "source": [
    "# Qualidade de vinhos\n",
    "\n",
    "Neste notebook, buscamos criar um modelo de regressão linear que avalie a qualidade dos vinhos a partir de suas propriedades.\n",
    "\n",
    "Para isso, primeiramente vamos carregar os dados que temos dos vinhos e da qualidade destes, e depois vamos escalar os dados usando o escalador padrão, que mapeia os dados para uma distribuição normal:"
   ]
  },
  {
   "cell_type": "code",
   "execution_count": 89,
   "metadata": {},
   "outputs": [
    {
     "name": "stdout",
     "output_type": "stream",
     "text": [
      "Data:\n"
     ]
    },
    {
     "data": {
      "text/html": [
       "<div>\n",
       "<style scoped>\n",
       "    .dataframe tbody tr th:only-of-type {\n",
       "        vertical-align: middle;\n",
       "    }\n",
       "\n",
       "    .dataframe tbody tr th {\n",
       "        vertical-align: top;\n",
       "    }\n",
       "\n",
       "    .dataframe thead th {\n",
       "        text-align: right;\n",
       "    }\n",
       "</style>\n",
       "<table border=\"1\" class=\"dataframe\">\n",
       "  <thead>\n",
       "    <tr style=\"text-align: right;\">\n",
       "      <th></th>\n",
       "      <th>fixed acidity</th>\n",
       "      <th>volatile acidity</th>\n",
       "      <th>citric acid</th>\n",
       "      <th>residual sugar</th>\n",
       "      <th>chlorides</th>\n",
       "      <th>free sulfur dioxide</th>\n",
       "      <th>total sulfur dioxide</th>\n",
       "      <th>density</th>\n",
       "      <th>pH</th>\n",
       "      <th>sulphates</th>\n",
       "      <th>alcohol</th>\n",
       "      <th>quality</th>\n",
       "    </tr>\n",
       "  </thead>\n",
       "  <tbody>\n",
       "    <tr>\n",
       "      <th>0</th>\n",
       "      <td>0.172097</td>\n",
       "      <td>-0.081770</td>\n",
       "      <td>0.213280</td>\n",
       "      <td>2.821349</td>\n",
       "      <td>-0.035355</td>\n",
       "      <td>0.569932</td>\n",
       "      <td>0.744565</td>\n",
       "      <td>2.331512</td>\n",
       "      <td>-1.246921</td>\n",
       "      <td>-0.349184</td>\n",
       "      <td>-1.393152</td>\n",
       "      <td>6</td>\n",
       "    </tr>\n",
       "    <tr>\n",
       "      <th>1</th>\n",
       "      <td>-0.657501</td>\n",
       "      <td>0.215896</td>\n",
       "      <td>0.048001</td>\n",
       "      <td>-0.944765</td>\n",
       "      <td>0.147747</td>\n",
       "      <td>-1.253019</td>\n",
       "      <td>-0.149685</td>\n",
       "      <td>-0.009154</td>\n",
       "      <td>0.740029</td>\n",
       "      <td>0.001342</td>\n",
       "      <td>-0.824276</td>\n",
       "      <td>6</td>\n",
       "    </tr>\n",
       "    <tr>\n",
       "      <th>2</th>\n",
       "      <td>1.475751</td>\n",
       "      <td>0.017452</td>\n",
       "      <td>0.543838</td>\n",
       "      <td>0.100282</td>\n",
       "      <td>0.193523</td>\n",
       "      <td>-0.312141</td>\n",
       "      <td>-0.973336</td>\n",
       "      <td>0.358665</td>\n",
       "      <td>0.475102</td>\n",
       "      <td>-0.436816</td>\n",
       "      <td>-0.336667</td>\n",
       "      <td>6</td>\n",
       "    </tr>\n",
       "  </tbody>\n",
       "</table>\n",
       "</div>"
      ],
      "text/plain": [
       "   fixed acidity  volatile acidity  citric acid  residual sugar  chlorides  \\\n",
       "0       0.172097         -0.081770     0.213280        2.821349  -0.035355   \n",
       "1      -0.657501          0.215896     0.048001       -0.944765   0.147747   \n",
       "2       1.475751          0.017452     0.543838        0.100282   0.193523   \n",
       "\n",
       "   free sulfur dioxide  total sulfur dioxide   density        pH  sulphates  \\\n",
       "0             0.569932              0.744565  2.331512 -1.246921  -0.349184   \n",
       "1            -1.253019             -0.149685 -0.009154  0.740029   0.001342   \n",
       "2            -0.312141             -0.973336  0.358665  0.475102  -0.436816   \n",
       "\n",
       "    alcohol  quality  \n",
       "0 -1.393152        6  \n",
       "1 -0.824276        6  \n",
       "2 -0.336667        6  "
      ]
     },
     "metadata": {},
     "output_type": "display_data"
    }
   ],
   "source": [
    "import pandas as pd\n",
    "from sklearn import preprocessing\n",
    "\n",
    "winewhite = pd.read_csv('winequality-white.csv', sep=';')\n",
    "wineScaled = winewhite.copy()\n",
    "\n",
    "scaler = preprocessing.StandardScaler()\n",
    "wineScaled.iloc[:, 0:11] = scaler.fit_transform(wineScaled.iloc[:, 0:11])\n",
    "\n",
    "print('Data:')\n",
    "display(wineScaled.head(3))\n"
   ]
  },
  {
   "attachments": {},
   "cell_type": "markdown",
   "metadata": {},
   "source": [
    "Após isso, podemos separar os dados e valores de qualidade em conjuntos de treino e teste:"
   ]
  },
  {
   "cell_type": "code",
   "execution_count": 90,
   "metadata": {},
   "outputs": [
    {
     "name": "stdout",
     "output_type": "stream",
     "text": [
      "Train data and labels:\n"
     ]
    },
    {
     "data": {
      "text/html": [
       "<div>\n",
       "<style scoped>\n",
       "    .dataframe tbody tr th:only-of-type {\n",
       "        vertical-align: middle;\n",
       "    }\n",
       "\n",
       "    .dataframe tbody tr th {\n",
       "        vertical-align: top;\n",
       "    }\n",
       "\n",
       "    .dataframe thead th {\n",
       "        text-align: right;\n",
       "    }\n",
       "</style>\n",
       "<table border=\"1\" class=\"dataframe\">\n",
       "  <thead>\n",
       "    <tr style=\"text-align: right;\">\n",
       "      <th></th>\n",
       "      <th>fixed acidity</th>\n",
       "      <th>volatile acidity</th>\n",
       "      <th>citric acid</th>\n",
       "      <th>residual sugar</th>\n",
       "      <th>chlorides</th>\n",
       "      <th>free sulfur dioxide</th>\n",
       "      <th>total sulfur dioxide</th>\n",
       "      <th>density</th>\n",
       "      <th>pH</th>\n",
       "      <th>sulphates</th>\n",
       "      <th>alcohol</th>\n",
       "    </tr>\n",
       "  </thead>\n",
       "  <tbody>\n",
       "    <tr>\n",
       "      <th>4665</th>\n",
       "      <td>0.527639</td>\n",
       "      <td>-1.073988</td>\n",
       "      <td>0.213280</td>\n",
       "      <td>0.356615</td>\n",
       "      <td>-0.813539</td>\n",
       "      <td>0.511127</td>\n",
       "      <td>-0.643875</td>\n",
       "      <td>-0.437162</td>\n",
       "      <td>-0.319678</td>\n",
       "      <td>-0.699710</td>\n",
       "      <td>1.532500</td>\n",
       "    </tr>\n",
       "    <tr>\n",
       "      <th>1943</th>\n",
       "      <td>-0.657501</td>\n",
       "      <td>-0.280214</td>\n",
       "      <td>0.874397</td>\n",
       "      <td>1.027022</td>\n",
       "      <td>-0.218457</td>\n",
       "      <td>0.746346</td>\n",
       "      <td>1.332887</td>\n",
       "      <td>0.927112</td>\n",
       "      <td>-0.054751</td>\n",
       "      <td>0.264236</td>\n",
       "      <td>-0.824276</td>\n",
       "    </tr>\n",
       "    <tr>\n",
       "      <th>3399</th>\n",
       "      <td>-1.487099</td>\n",
       "      <td>0.414339</td>\n",
       "      <td>-0.034638</td>\n",
       "      <td>0.198872</td>\n",
       "      <td>-0.401559</td>\n",
       "      <td>-0.606165</td>\n",
       "      <td>-1.020401</td>\n",
       "      <td>-0.450537</td>\n",
       "      <td>0.408870</td>\n",
       "      <td>0.001342</td>\n",
       "      <td>0.476014</td>\n",
       "    </tr>\n",
       "  </tbody>\n",
       "</table>\n",
       "</div>"
      ],
      "text/plain": [
       "      fixed acidity  volatile acidity  citric acid  residual sugar  chlorides  \\\n",
       "4665       0.527639         -1.073988     0.213280        0.356615  -0.813539   \n",
       "1943      -0.657501         -0.280214     0.874397        1.027022  -0.218457   \n",
       "3399      -1.487099          0.414339    -0.034638        0.198872  -0.401559   \n",
       "\n",
       "      free sulfur dioxide  total sulfur dioxide   density        pH  \\\n",
       "4665             0.511127             -0.643875 -0.437162 -0.319678   \n",
       "1943             0.746346              1.332887  0.927112 -0.054751   \n",
       "3399            -0.606165             -1.020401 -0.450537  0.408870   \n",
       "\n",
       "      sulphates   alcohol  \n",
       "4665  -0.699710  1.532500  \n",
       "1943   0.264236 -0.824276  \n",
       "3399   0.001342  0.476014  "
      ]
     },
     "metadata": {},
     "output_type": "display_data"
    },
    {
     "data": {
      "text/plain": [
       "4665    6\n",
       "1943    5\n",
       "3399    6\n",
       "Name: quality, dtype: int64"
      ]
     },
     "metadata": {},
     "output_type": "display_data"
    }
   ],
   "source": [
    "from sklearn.model_selection import train_test_split\n",
    "\n",
    "(trainData, testData, trainLabels, testLabels) = train_test_split(wineScaled.iloc[:, 0:11], wineScaled['quality'],\n",
    "                                                                test_size=0.2, random_state=42)\n",
    "print('Train data and labels:')\n",
    "display(trainData.head(3))\n",
    "display(trainLabels.head(3))\n"
   ]
  },
  {
   "attachments": {},
   "cell_type": "markdown",
   "metadata": {},
   "source": [
    "Agora que temos os dados, podemos treinar um modelo de regressão linear com gradiente descendente para prever as as qualidades dos vinhos.\n",
    "\n",
    "Após isso, vamos prever as qualidades para o treino e teste e calcular os erros médios absolutos e quadráticos para cada um dos conjuntos:"
   ]
  },
  {
   "cell_type": "code",
   "execution_count": 91,
   "metadata": {},
   "outputs": [
    {
     "name": "stdout",
     "output_type": "stream",
     "text": [
      "Mean absolute error for train data: 0.58\n",
      "Mean squared error for train data: 0.57\n",
      "Mean absolute error for test data: 0.59\n",
      "Mean squared error for test data: 0.58\n"
     ]
    }
   ],
   "source": [
    "from sklearn.linear_model import SGDRegressor\n",
    "from sklearn.metrics import mean_absolute_error, mean_squared_error\n",
    "\n",
    "sqrRegressor = SGDRegressor()\n",
    "sqrRegressor.fit(trainData, trainLabels)\n",
    "\n",
    "sqrTrainPred = sqrRegressor.predict(trainData)\n",
    "sqrTestPred = sqrRegressor.predict(testData)\n",
    "\n",
    "maeTrain = mean_absolute_error(sqrTrainPred, trainLabels)\n",
    "mseTrain = mean_squared_error(sqrTrainPred, trainLabels)\n",
    "maeTest = mean_absolute_error(sqrTestPred, testLabels)\n",
    "mseTest = mean_squared_error(sqrTestPred, testLabels)\n",
    "print(f'Mean absolute error for train data: {maeTrain:.2f}')\n",
    "print(f'Mean squared error for train data: {mseTrain:.2f}')\n",
    "print(f'Mean absolute error for test data: {maeTest:.2f}')\n",
    "print(f'Mean squared error for test data: {mseTest:.2f}')\n"
   ]
  },
  {
   "attachments": {},
   "cell_type": "markdown",
   "metadata": {},
   "source": [
    "É notável (mesmo que bem pequena) a diferença entre os erros para os grupos de treino e teste, sendo menor para o conjunto de treino, visto que o modelo foi treinado para minimizar o erro nesse conjunto.\n",
    "\n",
    "Também percebemos que os erros quadráticos são menores que os absolutos. Neste caso, isso ocorre porque quadrados de valores abaixo de zero são menores que os próprios valores, e, como a média dos erros é abaixo de zero, é provável que a maioria dos erros foi, também, abaixo de zero."
   ]
  }
 ],
 "metadata": {
  "kernelspec": {
   "display_name": "venv",
   "language": "python",
   "name": "python3"
  },
  "language_info": {
   "codemirror_mode": {
    "name": "ipython",
    "version": 3
   },
   "file_extension": ".py",
   "mimetype": "text/x-python",
   "name": "python",
   "nbconvert_exporter": "python",
   "pygments_lexer": "ipython3",
   "version": "3.11.2"
  },
  "orig_nbformat": 4
 },
 "nbformat": 4,
 "nbformat_minor": 2
}
