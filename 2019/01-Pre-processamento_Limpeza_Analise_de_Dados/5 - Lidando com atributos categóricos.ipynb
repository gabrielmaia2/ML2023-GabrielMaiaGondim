{
 "cells": [
  {
   "cell_type": "markdown",
   "metadata": {},
   "source": [
    "# 5 - Lidando com atributos categóricos"
   ]
  },
  {
   "cell_type": "markdown",
   "metadata": {},
   "source": [
    "## *Features* nominais e ordinais"
   ]
  },
  {
   "cell_type": "code",
   "execution_count": 1,
   "metadata": {},
   "outputs": [
    {
     "data": {
      "text/html": [
       "<div>\n",
       "<style scoped>\n",
       "    .dataframe tbody tr th:only-of-type {\n",
       "        vertical-align: middle;\n",
       "    }\n",
       "\n",
       "    .dataframe tbody tr th {\n",
       "        vertical-align: top;\n",
       "    }\n",
       "\n",
       "    .dataframe thead th {\n",
       "        text-align: right;\n",
       "    }\n",
       "</style>\n",
       "<table border=\"1\" class=\"dataframe\">\n",
       "  <thead>\n",
       "    <tr style=\"text-align: right;\">\n",
       "      <th></th>\n",
       "      <th>cor</th>\n",
       "      <th>tamanho</th>\n",
       "      <th>preco</th>\n",
       "      <th>rotuloclasse</th>\n",
       "    </tr>\n",
       "  </thead>\n",
       "  <tbody>\n",
       "    <tr>\n",
       "      <th>0</th>\n",
       "      <td>verde</td>\n",
       "      <td>M</td>\n",
       "      <td>10.1</td>\n",
       "      <td>classe2</td>\n",
       "    </tr>\n",
       "    <tr>\n",
       "      <th>1</th>\n",
       "      <td>vermelho</td>\n",
       "      <td>G</td>\n",
       "      <td>13.5</td>\n",
       "      <td>classe1</td>\n",
       "    </tr>\n",
       "    <tr>\n",
       "      <th>2</th>\n",
       "      <td>azul</td>\n",
       "      <td>XG</td>\n",
       "      <td>15.3</td>\n",
       "      <td>classe2</td>\n",
       "    </tr>\n",
       "  </tbody>\n",
       "</table>\n",
       "</div>"
      ],
      "text/plain": [
       "        cor tamanho  preco rotuloclasse\n",
       "0     verde       M   10.1      classe2\n",
       "1  vermelho       G   13.5      classe1\n",
       "2      azul      XG   15.3      classe2"
      ]
     },
     "execution_count": 1,
     "metadata": {},
     "output_type": "execute_result"
    }
   ],
   "source": [
    "# Importa pandas\n",
    "import pandas as pd\n",
    "\n",
    "# Cria dataframe com atributos de algum tipo de produto/alimento\n",
    "df = pd.DataFrame([['verde', 'M', 10.1, 'classe2'],\n",
    "                   ['vermelho', 'G', 13.5, 'classe1'],\n",
    "                   ['azul', 'XG', 15.3, 'classe2']])\n",
    "\n",
    "# Nomeia colunas do dataframe e mostra dataframe\n",
    "df.columns = ['cor', 'tamanho', 'preco', 'rotuloclasse']\n",
    "df"
   ]
  },
  {
   "cell_type": "markdown",
   "metadata": {},
   "source": [
    "## Mapeando *features* ordinais"
   ]
  },
  {
   "cell_type": "code",
   "execution_count": 2,
   "metadata": {},
   "outputs": [
    {
     "data": {
      "text/html": [
       "<div>\n",
       "<style scoped>\n",
       "    .dataframe tbody tr th:only-of-type {\n",
       "        vertical-align: middle;\n",
       "    }\n",
       "\n",
       "    .dataframe tbody tr th {\n",
       "        vertical-align: top;\n",
       "    }\n",
       "\n",
       "    .dataframe thead th {\n",
       "        text-align: right;\n",
       "    }\n",
       "</style>\n",
       "<table border=\"1\" class=\"dataframe\">\n",
       "  <thead>\n",
       "    <tr style=\"text-align: right;\">\n",
       "      <th></th>\n",
       "      <th>cor</th>\n",
       "      <th>tamanho</th>\n",
       "      <th>preco</th>\n",
       "      <th>rotuloclasse</th>\n",
       "    </tr>\n",
       "  </thead>\n",
       "  <tbody>\n",
       "    <tr>\n",
       "      <th>0</th>\n",
       "      <td>verde</td>\n",
       "      <td>1</td>\n",
       "      <td>10.1</td>\n",
       "      <td>classe2</td>\n",
       "    </tr>\n",
       "    <tr>\n",
       "      <th>1</th>\n",
       "      <td>vermelho</td>\n",
       "      <td>2</td>\n",
       "      <td>13.5</td>\n",
       "      <td>classe1</td>\n",
       "    </tr>\n",
       "    <tr>\n",
       "      <th>2</th>\n",
       "      <td>azul</td>\n",
       "      <td>3</td>\n",
       "      <td>15.3</td>\n",
       "      <td>classe2</td>\n",
       "    </tr>\n",
       "  </tbody>\n",
       "</table>\n",
       "</div>"
      ],
      "text/plain": [
       "        cor  tamanho  preco rotuloclasse\n",
       "0     verde        1   10.1      classe2\n",
       "1  vermelho        2   13.5      classe1\n",
       "2      azul        3   15.3      classe2"
      ]
     },
     "execution_count": 2,
     "metadata": {},
     "output_type": "execute_result"
    }
   ],
   "source": [
    "# Cria um dicionário para mapeamento de atributos (no caso de tamanho)\n",
    "size_mapping = {'XG': 3,\n",
    "                'G': 2,\n",
    "                'M': 1}\n",
    "\n",
    "# Cria e mostra um novo dataframe mapeando o antigo com o mapa criado anteriormente\n",
    "df['tamanho'] = df['tamanho'].map(size_mapping)\n",
    "df"
   ]
  },
  {
   "cell_type": "code",
   "execution_count": 3,
   "metadata": {},
   "outputs": [
    {
     "data": {
      "text/plain": [
       "0     M\n",
       "1     G\n",
       "2    XG\n",
       "Name: tamanho, dtype: object"
      ]
     },
     "execution_count": 3,
     "metadata": {},
     "output_type": "execute_result"
    }
   ],
   "source": [
    "# Cria um mapa que faz o mapeamento inverso do anterior (mapeiavalores de volta para labels 'M', 'G' e 'XG')\n",
    "inv_size_mapping = {v: k for k, v in size_mapping.items()}\n",
    "\n",
    "# Faz o mapeamento com o mapa inverso\n",
    "df['tamanho'].map(inv_size_mapping)"
   ]
  },
  {
   "cell_type": "markdown",
   "metadata": {},
   "source": [
    "## Codificando rótulos de classe"
   ]
  },
  {
   "cell_type": "code",
   "execution_count": 4,
   "metadata": {},
   "outputs": [
    {
     "data": {
      "text/plain": [
       "{'classe1': 0, 'classe2': 1}"
      ]
     },
     "execution_count": 4,
     "metadata": {},
     "output_type": "execute_result"
    }
   ],
   "source": [
    "# Importa numpy\n",
    "import numpy as np\n",
    "\n",
    "# Criando um dicionário para converter rótulos de classe de strings para inteiros\n",
    "# Pega uma lista dos valores da coluna 'rotuloclasse' do dataframe sem repetições e para cada um desses pega o índice e o label deste e cria um mapa que mapeia do label para o índice (mapeando para inteiros)\n",
    "class_mapping = {label: idx for idx, label in enumerate(np.unique(df['rotuloclasse']))}\n",
    "\n",
    "# Exibe o mapa\n",
    "class_mapping"
   ]
  },
  {
   "cell_type": "code",
   "execution_count": 5,
   "metadata": {},
   "outputs": [
    {
     "data": {
      "text/html": [
       "<div>\n",
       "<style scoped>\n",
       "    .dataframe tbody tr th:only-of-type {\n",
       "        vertical-align: middle;\n",
       "    }\n",
       "\n",
       "    .dataframe tbody tr th {\n",
       "        vertical-align: top;\n",
       "    }\n",
       "\n",
       "    .dataframe thead th {\n",
       "        text-align: right;\n",
       "    }\n",
       "</style>\n",
       "<table border=\"1\" class=\"dataframe\">\n",
       "  <thead>\n",
       "    <tr style=\"text-align: right;\">\n",
       "      <th></th>\n",
       "      <th>cor</th>\n",
       "      <th>tamanho</th>\n",
       "      <th>preco</th>\n",
       "      <th>rotuloclasse</th>\n",
       "    </tr>\n",
       "  </thead>\n",
       "  <tbody>\n",
       "    <tr>\n",
       "      <th>0</th>\n",
       "      <td>verde</td>\n",
       "      <td>1</td>\n",
       "      <td>10.1</td>\n",
       "      <td>1</td>\n",
       "    </tr>\n",
       "    <tr>\n",
       "      <th>1</th>\n",
       "      <td>vermelho</td>\n",
       "      <td>2</td>\n",
       "      <td>13.5</td>\n",
       "      <td>0</td>\n",
       "    </tr>\n",
       "    <tr>\n",
       "      <th>2</th>\n",
       "      <td>azul</td>\n",
       "      <td>3</td>\n",
       "      <td>15.3</td>\n",
       "      <td>1</td>\n",
       "    </tr>\n",
       "  </tbody>\n",
       "</table>\n",
       "</div>"
      ],
      "text/plain": [
       "        cor  tamanho  preco  rotuloclasse\n",
       "0     verde        1   10.1             1\n",
       "1  vermelho        2   13.5             0\n",
       "2      azul        3   15.3             1"
      ]
     },
     "execution_count": 5,
     "metadata": {},
     "output_type": "execute_result"
    }
   ],
   "source": [
    "# to convert class labels from strings to integers\n",
    "# Usa o mapa anterior\n",
    "df['rotuloclasse'] = df['rotuloclasse'].map(class_mapping)\n",
    "df"
   ]
  },
  {
   "cell_type": "code",
   "execution_count": 6,
   "metadata": {},
   "outputs": [
    {
     "data": {
      "text/html": [
       "<div>\n",
       "<style scoped>\n",
       "    .dataframe tbody tr th:only-of-type {\n",
       "        vertical-align: middle;\n",
       "    }\n",
       "\n",
       "    .dataframe tbody tr th {\n",
       "        vertical-align: top;\n",
       "    }\n",
       "\n",
       "    .dataframe thead th {\n",
       "        text-align: right;\n",
       "    }\n",
       "</style>\n",
       "<table border=\"1\" class=\"dataframe\">\n",
       "  <thead>\n",
       "    <tr style=\"text-align: right;\">\n",
       "      <th></th>\n",
       "      <th>cor</th>\n",
       "      <th>tamanho</th>\n",
       "      <th>preco</th>\n",
       "      <th>rotuloclasse</th>\n",
       "    </tr>\n",
       "  </thead>\n",
       "  <tbody>\n",
       "    <tr>\n",
       "      <th>0</th>\n",
       "      <td>verde</td>\n",
       "      <td>1</td>\n",
       "      <td>10.1</td>\n",
       "      <td>classe2</td>\n",
       "    </tr>\n",
       "    <tr>\n",
       "      <th>1</th>\n",
       "      <td>vermelho</td>\n",
       "      <td>2</td>\n",
       "      <td>13.5</td>\n",
       "      <td>classe1</td>\n",
       "    </tr>\n",
       "    <tr>\n",
       "      <th>2</th>\n",
       "      <td>azul</td>\n",
       "      <td>3</td>\n",
       "      <td>15.3</td>\n",
       "      <td>classe2</td>\n",
       "    </tr>\n",
       "  </tbody>\n",
       "</table>\n",
       "</div>"
      ],
      "text/plain": [
       "        cor  tamanho  preco rotuloclasse\n",
       "0     verde        1   10.1      classe2\n",
       "1  vermelho        2   13.5      classe1\n",
       "2      azul        3   15.3      classe2"
      ]
     },
     "execution_count": 6,
     "metadata": {},
     "output_type": "execute_result"
    }
   ],
   "source": [
    "# reverse the class label mapping\n",
    "# Cria um mapa inverso ao anterior, reverte o dataframe para o original e exibe este\n",
    "inv_class_mapping = {v: k for k, v in class_mapping.items()}\n",
    "df['rotuloclasse'] = df['rotuloclasse'].map(inv_class_mapping)\n",
    "df"
   ]
  }
 ],
 "metadata": {
  "kernelspec": {
   "display_name": "Python 3",
   "language": "python",
   "name": "python3"
  },
  "language_info": {
   "codemirror_mode": {
    "name": "ipython",
    "version": 3
   },
   "file_extension": ".py",
   "mimetype": "text/x-python",
   "name": "python",
   "nbconvert_exporter": "python",
   "pygments_lexer": "ipython3",
   "version": "3.11.2"
  }
 },
 "nbformat": 4,
 "nbformat_minor": 2
}
